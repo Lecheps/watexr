{
 "cells": [
  {
   "cell_type": "code",
   "execution_count": 1,
   "metadata": {},
   "outputs": [
    {
     "name": "stderr",
     "output_type": "stream",
     "text": [
      "Loading required package: rJava\n",
      "Loading required package: loadeR.java\n",
      "Java version 1.8x amd64 by Azul Systems, Inc. detected\n",
      "NetCDF Java Library v4.6.0-SNAPSHOT (23 Apr 2015) loaded and ready\n",
      "loadeR version 1.4.15 (2019-07-30) is loaded\n",
      "Please use 'citation(\"loadeR\")' to cite this package.\n"
     ]
    }
   ],
   "source": [
    "options(java.parameters = \"-Xmx80000m\") #Otherwise can't load shit\n",
    "library('loadeR')"
   ]
  },
  {
   "cell_type": "markdown",
   "metadata": {},
   "source": [
    "## Passing credentials"
   ]
  },
  {
   "cell_type": "code",
   "execution_count": 2,
   "metadata": {},
   "outputs": [
    {
     "name": "stderr",
     "output_type": "stream",
     "text": [
      "[2019-10-02 11:34:43] Setting credentials...\n",
      "[2019-10-02 11:34:43] Success!\n",
      "Go to <http://www.meteo.unican.es/udg-tap/home> for details on your authorized groups and datasets\n"
     ]
    }
   ],
   "source": [
    "loadeR::loginUDG(username='WATExR',password=\"1234567890\")"
   ]
  },
  {
   "cell_type": "markdown",
   "metadata": {},
   "source": [
    "# Downloading ERA-interim data "
   ]
  },
  {
   "cell_type": "code",
   "execution_count": 3,
   "metadata": {},
   "outputs": [
    {
     "name": "stderr",
     "output_type": "stream",
     "text": [
      "[2019-10-02 11:34:43] Doing inventory ...\n"
     ]
    },
    {
     "ename": "ERROR",
     "evalue": "Error in .jcall(\"RJavaTools\", \"Ljava/lang/Object;\", \"invokeMethod\", cl, : java.io.IOException: http://meteo.unican.es/tds5/dodsC/interim/interim075_WATExR.ncml is not a valid URL, return status=400\n",
     "output_type": "error",
     "traceback": [
      "Error in .jcall(\"RJavaTools\", \"Ljava/lang/Object;\", \"invokeMethod\", cl, : java.io.IOException: http://meteo.unican.es/tds5/dodsC/interim/interim075_WATExR.ncml is not a valid URL, return status=400\nTraceback:\n",
      "1. loadeR::dataInventory(dataset = \"http://meteo.unican.es/tds5/dodsC/interim/interim075_WATExR.ncml\", \n .     return.stats = TRUE)",
      "2. dataInventory.NetCDF(dataset)",
      "3. J(\"ucar.nc2.dt.grid.GridDataset\")$open(dataset)",
      "4. .jrcall(x@name, name, ...)",
      "5. .jcall(\"RJavaTools\", \"Ljava/lang/Object;\", \"invokeMethod\", cl, \n .     .jcast(if (inherits(o, \"jobjRef\") || inherits(o, \"jarrayRef\")) o else cl, \n .         \"java/lang/Object\"), .jnew(\"java/lang/String\", method), \n .     j_p, j_pc, use.true.class = TRUE, evalString = simplify, \n .     evalArray = FALSE)",
      "6. .jcheck(silent = FALSE)"
     ]
    }
   ],
   "source": [
    "era_address = \"http://meteo.unican.es/tds5/dodsC/interim/interim075_WATExR.ncml\"\n",
    "\n",
    "\n",
    "di <- loadeR::dataInventory(dataset=era_address, return.stats=TRUE)\n",
    "names(di)"
   ]
  },
  {
   "cell_type": "code",
   "execution_count": null,
   "metadata": {},
   "outputs": [],
   "source": []
  }
 ],
 "metadata": {
  "kernelspec": {
   "display_name": "R",
   "language": "R",
   "name": "ir"
  },
  "language_info": {
   "codemirror_mode": "r",
   "file_extension": ".r",
   "mimetype": "text/x-r-source",
   "name": "R",
   "pygments_lexer": "r",
   "version": "3.6.1"
  }
 },
 "nbformat": 4,
 "nbformat_minor": 4
}
